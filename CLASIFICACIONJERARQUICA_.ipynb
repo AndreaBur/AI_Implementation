{
  "nbformat": 4,
  "nbformat_minor": 0,
  "metadata": {
    "colab": {
      "provenance": [],
      "include_colab_link": true
    },
    "kernelspec": {
      "name": "python3",
      "display_name": "Python 3"
    },
    "language_info": {
      "name": "python"
    }
  },
  "cells": [
    {
      "cell_type": "markdown",
      "metadata": {
        "id": "view-in-github",
        "colab_type": "text"
      },
      "source": [
        "<a href=\"https://colab.research.google.com/github/AndreaBur/AI_Implementation/blob/main/CLASIFICACIONJERARQUICA_.ipynb\" target=\"_parent\"><img src=\"https://colab.research.google.com/assets/colab-badge.svg\" alt=\"Open In Colab\"/></a>"
      ]
    },
    {
      "cell_type": "markdown",
      "source": [
        "**MODELO DE CLASIFICACION JERARQUICA**"
      ],
      "metadata": {
        "id": "B6-R-xzkVl0j"
      }
    },
    {
      "cell_type": "markdown",
      "source": [
        "La clasificación jerárquica es más compleja que los tipos tradicionales de clasificación, ya que las clases están organizadas en niveles o árboles.\n",
        "\n",
        "Aunque scikit-learn no incluye directamente soporte nativo para clasificación jerárquica, sí podemos simularla con una estrategia de clasificadores encadenados por niveles (por ejemplo: Reino → Filo → Clase)."
      ],
      "metadata": {
        "id": "GOLiFBtjZoCb"
      }
    },
    {
      "cell_type": "code",
      "source": [
        "# Paso 1: Importar librerías\n",
        "from sklearn.datasets import make_classification\n",
        "from sklearn.model_selection import train_test_split\n",
        "from sklearn.tree import DecisionTreeClassifier\n",
        "from sklearn.metrics import classification_report\n",
        "import numpy as np\n",
        "import pandas as pd\n",
        "\n",
        "# Paso 2: Crear datos sintéticos para la jerarquía\n",
        "# Nivel 1: Clase general (0 = Mamífero, 1 = Ave)\n",
        "X, y_general = make_classification(n_samples=1000, n_features=5, n_classes=2, random_state=42)\n",
        "\n",
        "# Crear etiquetas del segundo nivel en función del primer nivel\n",
        "# Mamíferos: clase 0 → [0 = Perro, 1 = Gato]\n",
        "# Aves: clase 1 → [2 = Loro, 3 = Águila]\n",
        "y_specific = []\n",
        "\n",
        "np.random.seed(42)\n",
        "for label in y_general:\n",
        "    if label == 0:\n",
        "        y_specific.append(np.random.choice([0, 1]))  # Perro o Gato\n",
        "    else:\n",
        "        y_specific.append(np.random.choice([2, 3]))  # Loro o Águila\n",
        "\n",
        "y_specific = np.array(y_specific)\n",
        "\n",
        "# Paso 3: Dividir los datos\n",
        "X_train, X_test, y_general_train, y_general_test, y_specific_train, y_specific_test = train_test_split(\n",
        "    X, y_general, y_specific, test_size=0.3, random_state=42\n",
        ")\n",
        "\n",
        "# Paso 4: Entrenar clasificador para nivel 1 (Clase general)\n",
        "clf_general = DecisionTreeClassifier()\n",
        "clf_general.fit(X_train, y_general_train)\n",
        "\n",
        "# Paso 5: Entrenar clasificadores separados para cada clase del primer nivel\n",
        "# Mamíferos\n",
        "mask_mamifero = y_general_train == 0\n",
        "clf_mamifero = DecisionTreeClassifier()\n",
        "clf_mamifero.fit(X_train[mask_mamifero], y_specific_train[mask_mamifero])\n",
        "\n",
        "# Aves\n",
        "mask_ave = y_general_train == 1\n",
        "clf_ave = DecisionTreeClassifier()\n",
        "clf_ave.fit(X_train[mask_ave], y_specific_train[mask_ave])\n",
        "\n",
        "# Paso 6: Predicción jerárquica\n",
        "y_pred_general = clf_general.predict(X_test)\n",
        "y_pred_specific = []\n",
        "\n",
        "for i, pred_gen in enumerate(y_pred_general):\n",
        "    if pred_gen == 0:\n",
        "        pred = clf_mamifero.predict([X_test[i]])\n",
        "    else:\n",
        "        pred = clf_ave.predict([X_test[i]])\n",
        "    y_pred_specific.append(pred[0])\n",
        "\n",
        "# Paso 7: Evaluación\n",
        "print(\"Reporte Nivel 1 (Clase General):\")\n",
        "print(classification_report(y_general_test, y_pred_general, target_names=[\"Mamífero\", \"Ave\"]))\n",
        "\n",
        "print(\"\\nReporte Nivel 2 (Subtipos):\")\n",
        "etiquetas = [\"Perro\", \"Gato\", \"Loro\", \"Águila\"]\n",
        "print(classification_report(y_specific_test, y_pred_specific, target_names=etiquetas))\n"
      ],
      "metadata": {
        "colab": {
          "base_uri": "https://localhost:8080/"
        },
        "id": "M4fQAU8TahFT",
        "outputId": "056f986b-484d-407f-fb51-209f8213334d"
      },
      "execution_count": null,
      "outputs": [
        {
          "output_type": "stream",
          "name": "stdout",
          "text": [
            "Reporte Nivel 1 (Clase General):\n",
            "              precision    recall  f1-score   support\n",
            "\n",
            "    Mamífero       0.88      0.82      0.84       146\n",
            "         Ave       0.84      0.89      0.86       154\n",
            "\n",
            "    accuracy                           0.85       300\n",
            "   macro avg       0.86      0.85      0.85       300\n",
            "weighted avg       0.85      0.85      0.85       300\n",
            "\n",
            "\n",
            "Reporte Nivel 2 (Subtipos):\n",
            "              precision    recall  f1-score   support\n",
            "\n",
            "       Perro       0.49      0.39      0.44        74\n",
            "        Gato       0.49      0.53      0.51        72\n",
            "        Loro       0.32      0.39      0.35        70\n",
            "      Águila       0.41      0.39      0.40        84\n",
            "\n",
            "    accuracy                           0.42       300\n",
            "   macro avg       0.43      0.42      0.42       300\n",
            "weighted avg       0.43      0.42      0.42       300\n",
            "\n"
          ]
        }
      ]
    }
  ]
}